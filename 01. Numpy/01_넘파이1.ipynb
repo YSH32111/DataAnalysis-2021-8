{
  "nbformat": 4,
  "nbformat_minor": 0,
  "metadata": {
    "colab": {
      "name": "01_넘파이1.ipynb",
      "provenance": [],
      "collapsed_sections": []
    },
    "kernelspec": {
      "name": "python3",
      "display_name": "Python 3"
    },
    "language_info": {
      "name": "python"
    }
  },
  "cells": [
    {
      "cell_type": "markdown",
      "metadata": {
        "id": "hlYMwQp17tWy"
      },
      "source": [
        "# Numerical Python(Numpy) - Part1"
      ]
    },
    {
      "cell_type": "code",
      "metadata": {
        "id": "mqYYN2dcvxKI"
      },
      "source": [
        "# de facto standard (사실상의 표준)\n",
        "import numpy as np"
      ],
      "execution_count": 1,
      "outputs": []
    },
    {
      "cell_type": "code",
      "metadata": {
        "colab": {
          "base_uri": "https://localhost:8080/"
        },
        "id": "72RDURRJA45y",
        "outputId": "cf64521a-ac3c-44a3-bad3-1ccdd178387a"
      },
      "source": [
        "a = [1, 2, 3]\n",
        "a * 3"
      ],
      "execution_count": 2,
      "outputs": [
        {
          "output_type": "execute_result",
          "data": {
            "text/plain": [
              "[1, 2, 3, 1, 2, 3, 1, 2, 3]"
            ]
          },
          "metadata": {
            "tags": []
          },
          "execution_count": 2
        }
      ]
    },
    {
      "cell_type": "code",
      "metadata": {
        "colab": {
          "base_uri": "https://localhost:8080/"
        },
        "id": "aBCLSWvNA65S",
        "outputId": "1c163add-17e5-4a48-dbb8-5e0ee2b2a89a"
      },
      "source": [
        "list(map(lambda x: 3*x, a))"
      ],
      "execution_count": 3,
      "outputs": [
        {
          "output_type": "execute_result",
          "data": {
            "text/plain": [
              "[3, 6, 9]"
            ]
          },
          "metadata": {
            "tags": []
          },
          "execution_count": 3
        }
      ]
    },
    {
      "cell_type": "code",
      "metadata": {
        "colab": {
          "base_uri": "https://localhost:8080/"
        },
        "id": "o8N0MvlWA-_r",
        "outputId": "25dace7b-17ca-42f1-eef8-f6f3fb5324d6"
      },
      "source": [
        "b = np.array([1,2,3])\n",
        "b * 3"
      ],
      "execution_count": 4,
      "outputs": [
        {
          "output_type": "execute_result",
          "data": {
            "text/plain": [
              "array([3, 6, 9])"
            ]
          },
          "metadata": {
            "tags": []
          },
          "execution_count": 4
        }
      ]
    },
    {
      "cell_type": "markdown",
      "metadata": {
        "id": "n7-lJ0N7DbpB"
      },
      "source": [
        "## 1. Numpy Dimensional array"
      ]
    },
    {
      "cell_type": "code",
      "metadata": {
        "colab": {
          "base_uri": "https://localhost:8080/"
        },
        "id": "jLfiYBLrBB0x",
        "outputId": "4f9da458-cf37-4bc1-fa5f-46dc648d3af4"
      },
      "source": [
        "a = np.array([1,4,5,8], float)\n",
        "a"
      ],
      "execution_count": 6,
      "outputs": [
        {
          "output_type": "execute_result",
          "data": {
            "text/plain": [
              "array([1., 4., 5., 8.])"
            ]
          },
          "metadata": {
            "tags": []
          },
          "execution_count": 6
        }
      ]
    },
    {
      "cell_type": "code",
      "metadata": {
        "colab": {
          "base_uri": "https://localhost:8080/"
        },
        "id": "eXlkXg-pDuGZ",
        "outputId": "5cee137b-e4d7-4c5f-dcbd-42bccf07055c"
      },
      "source": [
        "type(a)"
      ],
      "execution_count": 7,
      "outputs": [
        {
          "output_type": "execute_result",
          "data": {
            "text/plain": [
              "numpy.ndarray"
            ]
          },
          "metadata": {
            "tags": []
          },
          "execution_count": 7
        }
      ]
    },
    {
      "cell_type": "code",
      "metadata": {
        "colab": {
          "base_uri": "https://localhost:8080/"
        },
        "id": "qjsR4S7aDzzp",
        "outputId": "56b158f2-286a-4cfc-dc8d-eeef3ac2b295"
      },
      "source": [
        "a.dtype, a.shape        # shape 데이터가 몇 차원이냐 array([1., 4., 5., 8.] 1차원임. 개수 4개"
      ],
      "execution_count": 9,
      "outputs": [
        {
          "output_type": "execute_result",
          "data": {
            "text/plain": [
              "(dtype('float64'), (4,))"
            ]
          },
          "metadata": {
            "tags": []
          },
          "execution_count": 9
        }
      ]
    },
    {
      "cell_type": "code",
      "metadata": {
        "id": "_Irai_dgER2I"
      },
      "source": [
        "# [[1,2,3],[4,5,6]]일 시 2차원(2, 3)"
      ],
      "execution_count": 10,
      "outputs": []
    },
    {
      "cell_type": "code",
      "metadata": {
        "id": "dmn4_QYBE0RJ"
      },
      "source": [
        "# 리스트는 다양한 타입 [정수, 실수 등] 가능하나 넘파이는 빠른 계산이 목적이여서 통일성을 강조한다\n",
        "# 실수면 실수로만 가능"
      ],
      "execution_count": 11,
      "outputs": []
    },
    {
      "cell_type": "markdown",
      "metadata": {
        "id": "BfqoA7deFSVb"
      },
      "source": [
        "## 2. Array shape"
      ]
    },
    {
      "cell_type": "code",
      "metadata": {
        "colab": {
          "base_uri": "https://localhost:8080/"
        },
        "id": "WI8UiTsqFRK2",
        "outputId": "85b4f8ff-08cc-4f00-ce79-4e1892206039"
      },
      "source": [
        "# Vector(1차원)\n",
        "vec = np.array([1,4,5,8])\n",
        "vec.shape"
      ],
      "execution_count": 13,
      "outputs": [
        {
          "output_type": "execute_result",
          "data": {
            "text/plain": [
              "(4,)"
            ]
          },
          "metadata": {
            "tags": []
          },
          "execution_count": 13
        }
      ]
    },
    {
      "cell_type": "code",
      "metadata": {
        "colab": {
          "base_uri": "https://localhost:8080/"
        },
        "id": "ddxKxJ3rFbDR",
        "outputId": "c281e359-6edf-4e7a-fa62-5d99b150f06d"
      },
      "source": [
        "# Matrix(2차원)\n",
        "matrix = np.array([[1,2,3], [4,5,6]])\n",
        "print(matrix.shape)\n",
        "matrix"
      ],
      "execution_count": 16,
      "outputs": [
        {
          "output_type": "stream",
          "text": [
            "(2, 3)\n"
          ],
          "name": "stdout"
        },
        {
          "output_type": "execute_result",
          "data": {
            "text/plain": [
              "array([[1, 2, 3],\n",
              "       [4, 5, 6]])"
            ]
          },
          "metadata": {
            "tags": []
          },
          "execution_count": 16
        }
      ]
    },
    {
      "cell_type": "code",
      "metadata": {
        "colab": {
          "base_uri": "https://localhost:8080/"
        },
        "id": "mRlTaJByFvSB",
        "outputId": "636362f0-6645-43ee-e293-4906d67fbf41"
      },
      "source": [
        "print(matrix)"
      ],
      "execution_count": 17,
      "outputs": [
        {
          "output_type": "stream",
          "text": [
            "[[1 2 3]\n",
            " [4 5 6]]\n"
          ],
          "name": "stdout"
        }
      ]
    },
    {
      "cell_type": "code",
      "metadata": {
        "colab": {
          "base_uri": "https://localhost:8080/"
        },
        "id": "nCa2LTspF0rp",
        "outputId": "a292d858-20e0-4bc7-b257-293642592047"
      },
      "source": [
        "# Tensor(3차원)\n",
        "tensor = np.arange(1,25).reshape(2,3,4)\n",
        "print(tensor)"
      ],
      "execution_count": 20,
      "outputs": [
        {
          "output_type": "stream",
          "text": [
            "[[[ 1  2  3  4]\n",
            "  [ 5  6  7  8]\n",
            "  [ 9 10 11 12]]\n",
            "\n",
            " [[13 14 15 16]\n",
            "  [17 18 19 20]\n",
            "  [21 22 23 24]]]\n"
          ],
          "name": "stdout"
        }
      ]
    },
    {
      "cell_type": "code",
      "metadata": {
        "colab": {
          "base_uri": "https://localhost:8080/"
        },
        "id": "jALFFJKFGO0g",
        "outputId": "4e5a21fd-a07f-4e77-e563-f78516803b48"
      },
      "source": [
        "vec.shape, matrix.shape, tensor.shape"
      ],
      "execution_count": 24,
      "outputs": [
        {
          "output_type": "execute_result",
          "data": {
            "text/plain": [
              "((4,), (2, 3), (2, 3, 4))"
            ]
          },
          "metadata": {
            "tags": []
          },
          "execution_count": 24
        }
      ]
    },
    {
      "cell_type": "code",
      "metadata": {
        "colab": {
          "base_uri": "https://localhost:8080/"
        },
        "id": "n1eerr7BG1VQ",
        "outputId": "c8b71859-ebb4-42d8-fa3d-50bdfbbab4b5"
      },
      "source": [
        "# element의 갯수\n",
        "vec.size, matrix.size, tensor.size"
      ],
      "execution_count": 26,
      "outputs": [
        {
          "output_type": "execute_result",
          "data": {
            "text/plain": [
              "(4, 6, 24)"
            ]
          },
          "metadata": {
            "tags": []
          },
          "execution_count": 26
        }
      ]
    },
    {
      "cell_type": "code",
      "metadata": {
        "colab": {
          "base_uri": "https://localhost:8080/"
        },
        "id": "FXvyRtUUHOJQ",
        "outputId": "0b8a3484-e746-488d-fa00-bab8cd3c2f62"
      },
      "source": [
        "# data type\n",
        "# float32: 32bit로 표시 - single precision\n",
        "# float64: 64bit로 표시 - precision\n",
        "a = np.array([1,2,3], dtype=np.float32)\n",
        "a"
      ],
      "execution_count": 36,
      "outputs": [
        {
          "output_type": "execute_result",
          "data": {
            "text/plain": [
              "array([1., 2., 3.], dtype=float32)"
            ]
          },
          "metadata": {
            "tags": []
          },
          "execution_count": 36
        }
      ]
    },
    {
      "cell_type": "code",
      "metadata": {
        "colab": {
          "base_uri": "https://localhost:8080/"
        },
        "id": "lBVSnw8YHsPA",
        "outputId": "0bc92fef-3353-4dbe-9563-d5f250c82b46"
      },
      "source": [
        "a = np.array([1,2,3], np.float32)\n",
        "a"
      ],
      "execution_count": 30,
      "outputs": [
        {
          "output_type": "execute_result",
          "data": {
            "text/plain": [
              "array([1., 2., 3.], dtype=float32)"
            ]
          },
          "metadata": {
            "tags": []
          },
          "execution_count": 30
        }
      ]
    },
    {
      "cell_type": "code",
      "metadata": {
        "colab": {
          "base_uri": "https://localhost:8080/"
        },
        "id": "oCsXjEVJH-Vt",
        "outputId": "9ab942f5-64fe-49f8-a5ce-6749fe84665c"
      },
      "source": [
        "b = np.array([1,2,3], dtype=np.int16)\n",
        "b"
      ],
      "execution_count": 32,
      "outputs": [
        {
          "output_type": "execute_result",
          "data": {
            "text/plain": [
              "array([1, 2, 3], dtype=int16)"
            ]
          },
          "metadata": {
            "tags": []
          },
          "execution_count": 32
        }
      ]
    },
    {
      "cell_type": "markdown",
      "metadata": {
        "id": "8UbpBpnYIpyn"
      },
      "source": [
        "### reshape"
      ]
    },
    {
      "cell_type": "code",
      "metadata": {
        "colab": {
          "base_uri": "https://localhost:8080/"
        },
        "id": "uknCqqHnIDkx",
        "outputId": "2e8af17f-d9bc-4515-d601-543fc7c0d43c"
      },
      "source": [
        "matrix.shape"
      ],
      "execution_count": 33,
      "outputs": [
        {
          "output_type": "execute_result",
          "data": {
            "text/plain": [
              "(2, 3)"
            ]
          },
          "metadata": {
            "tags": []
          },
          "execution_count": 33
        }
      ]
    },
    {
      "cell_type": "code",
      "metadata": {
        "colab": {
          "base_uri": "https://localhost:8080/"
        },
        "id": "I3_lZkphI6iI",
        "outputId": "979a4c45-2dbb-4d76-c2b8-c890e64ca6bc"
      },
      "source": [
        "matrix.reshape(6,)"
      ],
      "execution_count": 34,
      "outputs": [
        {
          "output_type": "execute_result",
          "data": {
            "text/plain": [
              "array([1, 2, 3, 4, 5, 6])"
            ]
          },
          "metadata": {
            "tags": []
          },
          "execution_count": 34
        }
      ]
    },
    {
      "cell_type": "code",
      "metadata": {
        "colab": {
          "base_uri": "https://localhost:8080/"
        },
        "id": "7IQhhWPaI8BQ",
        "outputId": "27f10aac-b59f-48b1-aba4-626f5b4b6d98"
      },
      "source": [
        "matrix.reshape(3,2)"
      ],
      "execution_count": 35,
      "outputs": [
        {
          "output_type": "execute_result",
          "data": {
            "text/plain": [
              "array([[1, 2],\n",
              "       [3, 4],\n",
              "       [5, 6]])"
            ]
          },
          "metadata": {
            "tags": []
          },
          "execution_count": 35
        }
      ]
    },
    {
      "cell_type": "code",
      "metadata": {
        "colab": {
          "base_uri": "https://localhost:8080/"
        },
        "id": "DhRnx95vJC3C",
        "outputId": "121ba513-14ba-4e4d-b3d7-4274209f3feb"
      },
      "source": [
        "# -1은 numpy가 알아서 맞춰줌 (단, size가 동일)\n",
        "matrix.reshape(-1,)"
      ],
      "execution_count": 38,
      "outputs": [
        {
          "output_type": "execute_result",
          "data": {
            "text/plain": [
              "array([1, 2, 3, 4, 5, 6])"
            ]
          },
          "metadata": {
            "tags": []
          },
          "execution_count": 38
        }
      ]
    },
    {
      "cell_type": "code",
      "metadata": {
        "colab": {
          "base_uri": "https://localhost:8080/"
        },
        "id": "Vl0rHKwxJbXa",
        "outputId": "660e38a9-f83f-4e5f-86f8-69eb54689451"
      },
      "source": [
        "matrix.reshape(3, -1)"
      ],
      "execution_count": 39,
      "outputs": [
        {
          "output_type": "execute_result",
          "data": {
            "text/plain": [
              "array([[1, 2],\n",
              "       [3, 4],\n",
              "       [5, 6]])"
            ]
          },
          "metadata": {
            "tags": []
          },
          "execution_count": 39
        }
      ]
    },
    {
      "cell_type": "code",
      "metadata": {
        "colab": {
          "base_uri": "https://localhost:8080/"
        },
        "id": "xD0diQDTKDxP",
        "outputId": "e865dc0f-f01d-4b5a-a6a4-35b504904ad1"
      },
      "source": [
        "matrix.reshape(3, -1).shape"
      ],
      "execution_count": 41,
      "outputs": [
        {
          "output_type": "execute_result",
          "data": {
            "text/plain": [
              "(3, 2)"
            ]
          },
          "metadata": {
            "tags": []
          },
          "execution_count": 41
        }
      ]
    },
    {
      "cell_type": "code",
      "metadata": {
        "colab": {
          "base_uri": "https://localhost:8080/"
        },
        "id": "KN_0p5hvKGWH",
        "outputId": "657cfaa0-f4e5-4d7c-bb41-5a6db1592d2d"
      },
      "source": [
        "tensor.reshape(4,-1).shape"
      ],
      "execution_count": 43,
      "outputs": [
        {
          "output_type": "execute_result",
          "data": {
            "text/plain": [
              "(4, 6)"
            ]
          },
          "metadata": {
            "tags": []
          },
          "execution_count": 43
        }
      ]
    },
    {
      "cell_type": "code",
      "metadata": {
        "colab": {
          "base_uri": "https://localhost:8080/"
        },
        "id": "EcOdHk8DKddn",
        "outputId": "4c6475f6-6dd7-4309-8250-ace200236f54"
      },
      "source": [
        "matrix.reshape(-1,)"
      ],
      "execution_count": 44,
      "outputs": [
        {
          "output_type": "execute_result",
          "data": {
            "text/plain": [
              "array([1, 2, 3, 4, 5, 6])"
            ]
          },
          "metadata": {
            "tags": []
          },
          "execution_count": 44
        }
      ]
    },
    {
      "cell_type": "code",
      "metadata": {
        "colab": {
          "base_uri": "https://localhost:8080/"
        },
        "id": "GJqSkXYWM9S2",
        "outputId": "a5847482-002a-463a-db41-400d429b7e34"
      },
      "source": [
        "matrix.reshape(1,-1)"
      ],
      "execution_count": 45,
      "outputs": [
        {
          "output_type": "execute_result",
          "data": {
            "text/plain": [
              "array([[1, 2, 3, 4, 5, 6]])"
            ]
          },
          "metadata": {
            "tags": []
          },
          "execution_count": 45
        }
      ]
    },
    {
      "cell_type": "code",
      "metadata": {
        "colab": {
          "base_uri": "https://localhost:8080/"
        },
        "id": "PbSds26_NAs4",
        "outputId": "d710de9b-487f-4bb1-ec87-d7b0e4f3c270"
      },
      "source": [
        "matrix.reshape(-1,1)"
      ],
      "execution_count": 46,
      "outputs": [
        {
          "output_type": "execute_result",
          "data": {
            "text/plain": [
              "array([[1],\n",
              "       [2],\n",
              "       [3],\n",
              "       [4],\n",
              "       [5],\n",
              "       [6]])"
            ]
          },
          "metadata": {
            "tags": []
          },
          "execution_count": 46
        }
      ]
    },
    {
      "cell_type": "markdown",
      "metadata": {
        "id": "9bu5t21ZOBs7"
      },
      "source": [
        "### flatten"
      ]
    },
    {
      "cell_type": "code",
      "metadata": {
        "colab": {
          "base_uri": "https://localhost:8080/"
        },
        "id": "26D6IjMKNPlA",
        "outputId": "6927a79b-bc2b-40df-b5a7-d7e9bb3fcdfb"
      },
      "source": [
        "tensor.reshape(-1,)"
      ],
      "execution_count": 54,
      "outputs": [
        {
          "output_type": "execute_result",
          "data": {
            "text/plain": [
              "array([ 1,  2,  3,  4,  5,  6,  7,  8,  9, 10, 11, 12, 13, 14, 15, 16, 17,\n",
              "       18, 19, 20, 21, 22, 23, 24])"
            ]
          },
          "metadata": {
            "tags": []
          },
          "execution_count": 54
        }
      ]
    },
    {
      "cell_type": "code",
      "metadata": {
        "colab": {
          "base_uri": "https://localhost:8080/"
        },
        "id": "yPDJKb1EOFLW",
        "outputId": "8e3a19aa-edb3-40ee-e7b0-c4fbc03a736f"
      },
      "source": [
        "tensor.flatten()"
      ],
      "execution_count": 49,
      "outputs": [
        {
          "output_type": "execute_result",
          "data": {
            "text/plain": [
              "array([ 1,  2,  3,  4,  5,  6,  7,  8,  9, 10, 11, 12, 13, 14, 15, 16, 17,\n",
              "       18, 19, 20, 21, 22, 23, 24])"
            ]
          },
          "metadata": {
            "tags": []
          },
          "execution_count": 49
        }
      ]
    },
    {
      "cell_type": "markdown",
      "metadata": {
        "id": "fEN7lV9uQlnT"
      },
      "source": [
        "## 3. Indexing & Slicing"
      ]
    },
    {
      "cell_type": "markdown",
      "metadata": {
        "id": "OTY79gr_QqIM"
      },
      "source": [
        "Indexing"
      ]
    },
    {
      "cell_type": "code",
      "metadata": {
        "colab": {
          "base_uri": "https://localhost:8080/"
        },
        "id": "yPSvAbtBOJIm",
        "outputId": "cc37a5d4-60a8-4bd9-8a35-6ea91fc602af"
      },
      "source": [
        "tensor.shape"
      ],
      "execution_count": 50,
      "outputs": [
        {
          "output_type": "execute_result",
          "data": {
            "text/plain": [
              "(2, 3, 4)"
            ]
          },
          "metadata": {
            "tags": []
          },
          "execution_count": 50
        }
      ]
    },
    {
      "cell_type": "code",
      "metadata": {
        "colab": {
          "base_uri": "https://localhost:8080/"
        },
        "id": "R5jcIcK3Qsx4",
        "outputId": "29f2c98c-d115-4b69-8817-032476ff5dd7"
      },
      "source": [
        "matrix"
      ],
      "execution_count": 51,
      "outputs": [
        {
          "output_type": "execute_result",
          "data": {
            "text/plain": [
              "array([[1, 2, 3],\n",
              "       [4, 5, 6]])"
            ]
          },
          "metadata": {
            "tags": []
          },
          "execution_count": 51
        }
      ]
    },
    {
      "cell_type": "code",
      "metadata": {
        "colab": {
          "base_uri": "https://localhost:8080/"
        },
        "id": "VMxNafFnRDTG",
        "outputId": "f40e5696-d6ec-4064-f6fa-f762ecc0085f"
      },
      "source": [
        "matrix[0][1]"
      ],
      "execution_count": 52,
      "outputs": [
        {
          "output_type": "execute_result",
          "data": {
            "text/plain": [
              "2"
            ]
          },
          "metadata": {
            "tags": []
          },
          "execution_count": 52
        }
      ]
    },
    {
      "cell_type": "code",
      "metadata": {
        "colab": {
          "base_uri": "https://localhost:8080/"
        },
        "id": "NfNGd3xGRFRE",
        "outputId": "cb6c4220-f04f-451f-e860-6b7a3c07bd45"
      },
      "source": [
        "matrix[0,1]"
      ],
      "execution_count": 53,
      "outputs": [
        {
          "output_type": "execute_result",
          "data": {
            "text/plain": [
              "2"
            ]
          },
          "metadata": {
            "tags": []
          },
          "execution_count": 53
        }
      ]
    },
    {
      "cell_type": "code",
      "metadata": {
        "colab": {
          "base_uri": "https://localhost:8080/"
        },
        "id": "92JdEuTDRGdG",
        "outputId": "923d3ef0-506b-4e2f-e7c1-55a31e6bfffc"
      },
      "source": [
        "tensor[1,1,2]"
      ],
      "execution_count": 55,
      "outputs": [
        {
          "output_type": "execute_result",
          "data": {
            "text/plain": [
              "19"
            ]
          },
          "metadata": {
            "tags": []
          },
          "execution_count": 55
        }
      ]
    },
    {
      "cell_type": "markdown",
      "metadata": {
        "id": "-KRxXBitR1uH"
      },
      "source": [
        "### slicing"
      ]
    },
    {
      "cell_type": "code",
      "metadata": {
        "colab": {
          "base_uri": "https://localhost:8080/"
        },
        "id": "gr5I0mYtRioN",
        "outputId": "6d9daf7a-a0cd-45c4-8d88-2bab4eca2400"
      },
      "source": [
        "b = np.arange(16).reshape(4,-1)\n",
        "b"
      ],
      "execution_count": 56,
      "outputs": [
        {
          "output_type": "execute_result",
          "data": {
            "text/plain": [
              "array([[ 0,  1,  2,  3],\n",
              "       [ 4,  5,  6,  7],\n",
              "       [ 8,  9, 10, 11],\n",
              "       [12, 13, 14, 15]])"
            ]
          },
          "metadata": {
            "tags": []
          },
          "execution_count": 56
        }
      ]
    },
    {
      "cell_type": "code",
      "metadata": {
        "colab": {
          "base_uri": "https://localhost:8080/"
        },
        "id": "Yu1ZupdtR5jt",
        "outputId": "693e5b5d-1fc5-47ca-fdbe-a853d0cb08b0"
      },
      "source": [
        "# 5,6,9,10\n",
        "b[1:3, 1:3]"
      ],
      "execution_count": 57,
      "outputs": [
        {
          "output_type": "execute_result",
          "data": {
            "text/plain": [
              "array([[ 5,  6],\n",
              "       [ 9, 10]])"
            ]
          },
          "metadata": {
            "tags": []
          },
          "execution_count": 57
        }
      ]
    },
    {
      "cell_type": "code",
      "metadata": {
        "colab": {
          "base_uri": "https://localhost:8080/"
        },
        "id": "eBEibyAhSB4p",
        "outputId": "9f1d6679-66df-4b1e-cde8-047fde37dece"
      },
      "source": [
        "# 1,3,9,11\n",
        "b[::2, 1::2]"
      ],
      "execution_count": 59,
      "outputs": [
        {
          "output_type": "execute_result",
          "data": {
            "text/plain": [
              "array([[ 1,  3],\n",
              "       [ 9, 11]])"
            ]
          },
          "metadata": {
            "tags": []
          },
          "execution_count": 59
        }
      ]
    },
    {
      "cell_type": "code",
      "metadata": {
        "colab": {
          "base_uri": "https://localhost:8080/"
        },
        "id": "waSseeZtSqeN",
        "outputId": "4642fefd-d61c-41f2-8042-b19cf87bace8"
      },
      "source": [
        "# X는 앞의 3열, y는 마지막 열\n",
        "X, y = b[:, :-1], b[:, -1]\n",
        "X.shape, y.shape"
      ],
      "execution_count": 62,
      "outputs": [
        {
          "output_type": "execute_result",
          "data": {
            "text/plain": [
              "((4, 3), (4,))"
            ]
          },
          "metadata": {
            "tags": []
          },
          "execution_count": 62
        }
      ]
    },
    {
      "cell_type": "code",
      "metadata": {
        "id": "y7EGEg5wT3e-"
      },
      "source": [
        ""
      ],
      "execution_count": null,
      "outputs": []
    }
  ]
}