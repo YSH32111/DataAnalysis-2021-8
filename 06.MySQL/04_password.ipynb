{
  "nbformat": 4,
  "nbformat_minor": 0,
  "metadata": {
    "colab": {
      "name": "04_password.ipynb",
      "provenance": [],
      "collapsed_sections": []
    },
    "kernelspec": {
      "name": "python3",
      "display_name": "Python 3"
    },
    "language_info": {
      "name": "python"
    }
  },
  "cells": [
    {
      "cell_type": "markdown",
      "metadata": {
        "id": "yeuqmCUa7IKV"
      },
      "source": [
        "# users table에 패스워드 넣기"
      ]
    },
    {
      "cell_type": "code",
      "metadata": {
        "colab": {
          "resources": {
            "http://localhost:8080/nbextensions/google.colab/files.js": {
              "data": "Ly8gQ29weXJpZ2h0IDIwMTcgR29vZ2xlIExMQwovLwovLyBMaWNlbnNlZCB1bmRlciB0aGUgQXBhY2hlIExpY2Vuc2UsIFZlcnNpb24gMi4wICh0aGUgIkxpY2Vuc2UiKTsKLy8geW91IG1heSBub3QgdXNlIHRoaXMgZmlsZSBleGNlcHQgaW4gY29tcGxpYW5jZSB3aXRoIHRoZSBMaWNlbnNlLgovLyBZb3UgbWF5IG9idGFpbiBhIGNvcHkgb2YgdGhlIExpY2Vuc2UgYXQKLy8KLy8gICAgICBodHRwOi8vd3d3LmFwYWNoZS5vcmcvbGljZW5zZXMvTElDRU5TRS0yLjAKLy8KLy8gVW5sZXNzIHJlcXVpcmVkIGJ5IGFwcGxpY2FibGUgbGF3IG9yIGFncmVlZCB0byBpbiB3cml0aW5nLCBzb2Z0d2FyZQovLyBkaXN0cmlidXRlZCB1bmRlciB0aGUgTGljZW5zZSBpcyBkaXN0cmlidXRlZCBvbiBhbiAiQVMgSVMiIEJBU0lTLAovLyBXSVRIT1VUIFdBUlJBTlRJRVMgT1IgQ09ORElUSU9OUyBPRiBBTlkgS0lORCwgZWl0aGVyIGV4cHJlc3Mgb3IgaW1wbGllZC4KLy8gU2VlIHRoZSBMaWNlbnNlIGZvciB0aGUgc3BlY2lmaWMgbGFuZ3VhZ2UgZ292ZXJuaW5nIHBlcm1pc3Npb25zIGFuZAovLyBsaW1pdGF0aW9ucyB1bmRlciB0aGUgTGljZW5zZS4KCi8qKgogKiBAZmlsZW92ZXJ2aWV3IEhlbHBlcnMgZm9yIGdvb2dsZS5jb2xhYiBQeXRob24gbW9kdWxlLgogKi8KKGZ1bmN0aW9uKHNjb3BlKSB7CmZ1bmN0aW9uIHNwYW4odGV4dCwgc3R5bGVBdHRyaWJ1dGVzID0ge30pIHsKICBjb25zdCBlbGVtZW50ID0gZG9jdW1lbnQuY3JlYXRlRWxlbWVudCgnc3BhbicpOwogIGVsZW1lbnQudGV4dENvbnRlbnQgPSB0ZXh0OwogIGZvciAoY29uc3Qga2V5IG9mIE9iamVjdC5rZXlzKHN0eWxlQXR0cmlidXRlcykpIHsKICAgIGVsZW1lbnQuc3R5bGVba2V5XSA9IHN0eWxlQXR0cmlidXRlc1trZXldOwogIH0KICByZXR1cm4gZWxlbWVudDsKfQoKLy8gTWF4IG51bWJlciBvZiBieXRlcyB3aGljaCB3aWxsIGJlIHVwbG9hZGVkIGF0IGEgdGltZS4KY29uc3QgTUFYX1BBWUxPQURfU0laRSA9IDEwMCAqIDEwMjQ7CgpmdW5jdGlvbiBfdXBsb2FkRmlsZXMoaW5wdXRJZCwgb3V0cHV0SWQpIHsKICBjb25zdCBzdGVwcyA9IHVwbG9hZEZpbGVzU3RlcChpbnB1dElkLCBvdXRwdXRJZCk7CiAgY29uc3Qgb3V0cHV0RWxlbWVudCA9IGRvY3VtZW50LmdldEVsZW1lbnRCeUlkKG91dHB1dElkKTsKICAvLyBDYWNoZSBzdGVwcyBvbiB0aGUgb3V0cHV0RWxlbWVudCB0byBtYWtlIGl0IGF2YWlsYWJsZSBmb3IgdGhlIG5leHQgY2FsbAogIC8vIHRvIHVwbG9hZEZpbGVzQ29udGludWUgZnJvbSBQeXRob24uCiAgb3V0cHV0RWxlbWVudC5zdGVwcyA9IHN0ZXBzOwoKICByZXR1cm4gX3VwbG9hZEZpbGVzQ29udGludWUob3V0cHV0SWQpOwp9CgovLyBUaGlzIGlzIHJvdWdobHkgYW4gYXN5bmMgZ2VuZXJhdG9yIChub3Qgc3VwcG9ydGVkIGluIHRoZSBicm93c2VyIHlldCksCi8vIHdoZXJlIHRoZXJlIGFyZSBtdWx0aXBsZSBhc3luY2hyb25vdXMgc3RlcHMgYW5kIHRoZSBQeXRob24gc2lkZSBpcyBnb2luZwovLyB0byBwb2xsIGZvciBjb21wbGV0aW9uIG9mIGVhY2ggc3RlcC4KLy8gVGhpcyB1c2VzIGEgUHJvbWlzZSB0byBibG9jayB0aGUgcHl0aG9uIHNpZGUgb24gY29tcGxldGlvbiBvZiBlYWNoIHN0ZXAsCi8vIHRoZW4gcGFzc2VzIHRoZSByZXN1bHQgb2YgdGhlIHByZXZpb3VzIHN0ZXAgYXMgdGhlIGlucHV0IHRvIHRoZSBuZXh0IHN0ZXAuCmZ1bmN0aW9uIF91cGxvYWRGaWxlc0NvbnRpbnVlKG91dHB1dElkKSB7CiAgY29uc3Qgb3V0cHV0RWxlbWVudCA9IGRvY3VtZW50LmdldEVsZW1lbnRCeUlkKG91dHB1dElkKTsKICBjb25zdCBzdGVwcyA9IG91dHB1dEVsZW1lbnQuc3RlcHM7CgogIGNvbnN0IG5leHQgPSBzdGVwcy5uZXh0KG91dHB1dEVsZW1lbnQubGFzdFByb21pc2VWYWx1ZSk7CiAgcmV0dXJuIFByb21pc2UucmVzb2x2ZShuZXh0LnZhbHVlLnByb21pc2UpLnRoZW4oKHZhbHVlKSA9PiB7CiAgICAvLyBDYWNoZSB0aGUgbGFzdCBwcm9taXNlIHZhbHVlIHRvIG1ha2UgaXQgYXZhaWxhYmxlIHRvIHRoZSBuZXh0CiAgICAvLyBzdGVwIG9mIHRoZSBnZW5lcmF0b3IuCiAgICBvdXRwdXRFbGVtZW50Lmxhc3RQcm9taXNlVmFsdWUgPSB2YWx1ZTsKICAgIHJldHVybiBuZXh0LnZhbHVlLnJlc3BvbnNlOwogIH0pOwp9CgovKioKICogR2VuZXJhdG9yIGZ1bmN0aW9uIHdoaWNoIGlzIGNhbGxlZCBiZXR3ZWVuIGVhY2ggYXN5bmMgc3RlcCBvZiB0aGUgdXBsb2FkCiAqIHByb2Nlc3MuCiAqIEBwYXJhbSB7c3RyaW5nfSBpbnB1dElkIEVsZW1lbnQgSUQgb2YgdGhlIGlucHV0IGZpbGUgcGlja2VyIGVsZW1lbnQuCiAqIEBwYXJhbSB7c3RyaW5nfSBvdXRwdXRJZCBFbGVtZW50IElEIG9mIHRoZSBvdXRwdXQgZGlzcGxheS4KICogQHJldHVybiB7IUl0ZXJhYmxlPCFPYmplY3Q+fSBJdGVyYWJsZSBvZiBuZXh0IHN0ZXBzLgogKi8KZnVuY3Rpb24qIHVwbG9hZEZpbGVzU3RlcChpbnB1dElkLCBvdXRwdXRJZCkgewogIGNvbnN0IGlucHV0RWxlbWVudCA9IGRvY3VtZW50LmdldEVsZW1lbnRCeUlkKGlucHV0SWQpOwogIGlucHV0RWxlbWVudC5kaXNhYmxlZCA9IGZhbHNlOwoKICBjb25zdCBvdXRwdXRFbGVtZW50ID0gZG9jdW1lbnQuZ2V0RWxlbWVudEJ5SWQob3V0cHV0SWQpOwogIG91dHB1dEVsZW1lbnQuaW5uZXJIVE1MID0gJyc7CgogIGNvbnN0IHBpY2tlZFByb21pc2UgPSBuZXcgUHJvbWlzZSgocmVzb2x2ZSkgPT4gewogICAgaW5wdXRFbGVtZW50LmFkZEV2ZW50TGlzdGVuZXIoJ2NoYW5nZScsIChlKSA9PiB7CiAgICAgIHJlc29sdmUoZS50YXJnZXQuZmlsZXMpOwogICAgfSk7CiAgfSk7CgogIGNvbnN0IGNhbmNlbCA9IGRvY3VtZW50LmNyZWF0ZUVsZW1lbnQoJ2J1dHRvbicpOwogIGlucHV0RWxlbWVudC5wYXJlbnRFbGVtZW50LmFwcGVuZENoaWxkKGNhbmNlbCk7CiAgY2FuY2VsLnRleHRDb250ZW50ID0gJ0NhbmNlbCB1cGxvYWQnOwogIGNvbnN0IGNhbmNlbFByb21pc2UgPSBuZXcgUHJvbWlzZSgocmVzb2x2ZSkgPT4gewogICAgY2FuY2VsLm9uY2xpY2sgPSAoKSA9PiB7CiAgICAgIHJlc29sdmUobnVsbCk7CiAgICB9OwogIH0pOwoKICAvLyBXYWl0IGZvciB0aGUgdXNlciB0byBwaWNrIHRoZSBmaWxlcy4KICBjb25zdCBmaWxlcyA9IHlpZWxkIHsKICAgIHByb21pc2U6IFByb21pc2UucmFjZShbcGlja2VkUHJvbWlzZSwgY2FuY2VsUHJvbWlzZV0pLAogICAgcmVzcG9uc2U6IHsKICAgICAgYWN0aW9uOiAnc3RhcnRpbmcnLAogICAgfQogIH07CgogIGNhbmNlbC5yZW1vdmUoKTsKCiAgLy8gRGlzYWJsZSB0aGUgaW5wdXQgZWxlbWVudCBzaW5jZSBmdXJ0aGVyIHBpY2tzIGFyZSBub3QgYWxsb3dlZC4KICBpbnB1dEVsZW1lbnQuZGlzYWJsZWQgPSB0cnVlOwoKICBpZiAoIWZpbGVzKSB7CiAgICByZXR1cm4gewogICAgICByZXNwb25zZTogewogICAgICAgIGFjdGlvbjogJ2NvbXBsZXRlJywKICAgICAgfQogICAgfTsKICB9CgogIGZvciAoY29uc3QgZmlsZSBvZiBmaWxlcykgewogICAgY29uc3QgbGkgPSBkb2N1bWVudC5jcmVhdGVFbGVtZW50KCdsaScpOwogICAgbGkuYXBwZW5kKHNwYW4oZmlsZS5uYW1lLCB7Zm9udFdlaWdodDogJ2JvbGQnfSkpOwogICAgbGkuYXBwZW5kKHNwYW4oCiAgICAgICAgYCgke2ZpbGUudHlwZSB8fCAnbi9hJ30pIC0gJHtmaWxlLnNpemV9IGJ5dGVzLCBgICsKICAgICAgICBgbGFzdCBtb2RpZmllZDogJHsKICAgICAgICAgICAgZmlsZS5sYXN0TW9kaWZpZWREYXRlID8gZmlsZS5sYXN0TW9kaWZpZWREYXRlLnRvTG9jYWxlRGF0ZVN0cmluZygpIDoKICAgICAgICAgICAgICAgICAgICAgICAgICAgICAgICAgICAgJ24vYSd9IC0gYCkpOwogICAgY29uc3QgcGVyY2VudCA9IHNwYW4oJzAlIGRvbmUnKTsKICAgIGxpLmFwcGVuZENoaWxkKHBlcmNlbnQpOwoKICAgIG91dHB1dEVsZW1lbnQuYXBwZW5kQ2hpbGQobGkpOwoKICAgIGNvbnN0IGZpbGVEYXRhUHJvbWlzZSA9IG5ldyBQcm9taXNlKChyZXNvbHZlKSA9PiB7CiAgICAgIGNvbnN0IHJlYWRlciA9IG5ldyBGaWxlUmVhZGVyKCk7CiAgICAgIHJlYWRlci5vbmxvYWQgPSAoZSkgPT4gewogICAgICAgIHJlc29sdmUoZS50YXJnZXQucmVzdWx0KTsKICAgICAgfTsKICAgICAgcmVhZGVyLnJlYWRBc0FycmF5QnVmZmVyKGZpbGUpOwogICAgfSk7CiAgICAvLyBXYWl0IGZvciB0aGUgZGF0YSB0byBiZSByZWFkeS4KICAgIGxldCBmaWxlRGF0YSA9IHlpZWxkIHsKICAgICAgcHJvbWlzZTogZmlsZURhdGFQcm9taXNlLAogICAgICByZXNwb25zZTogewogICAgICAgIGFjdGlvbjogJ2NvbnRpbnVlJywKICAgICAgfQogICAgfTsKCiAgICAvLyBVc2UgYSBjaHVua2VkIHNlbmRpbmcgdG8gYXZvaWQgbWVzc2FnZSBzaXplIGxpbWl0cy4gU2VlIGIvNjIxMTU2NjAuCiAgICBsZXQgcG9zaXRpb24gPSAwOwogICAgZG8gewogICAgICBjb25zdCBsZW5ndGggPSBNYXRoLm1pbihmaWxlRGF0YS5ieXRlTGVuZ3RoIC0gcG9zaXRpb24sIE1BWF9QQVlMT0FEX1NJWkUpOwogICAgICBjb25zdCBjaHVuayA9IG5ldyBVaW50OEFycmF5KGZpbGVEYXRhLCBwb3NpdGlvbiwgbGVuZ3RoKTsKICAgICAgcG9zaXRpb24gKz0gbGVuZ3RoOwoKICAgICAgY29uc3QgYmFzZTY0ID0gYnRvYShTdHJpbmcuZnJvbUNoYXJDb2RlLmFwcGx5KG51bGwsIGNodW5rKSk7CiAgICAgIHlpZWxkIHsKICAgICAgICByZXNwb25zZTogewogICAgICAgICAgYWN0aW9uOiAnYXBwZW5kJywKICAgICAgICAgIGZpbGU6IGZpbGUubmFtZSwKICAgICAgICAgIGRhdGE6IGJhc2U2NCwKICAgICAgICB9LAogICAgICB9OwoKICAgICAgbGV0IHBlcmNlbnREb25lID0gZmlsZURhdGEuYnl0ZUxlbmd0aCA9PT0gMCA/CiAgICAgICAgICAxMDAgOgogICAgICAgICAgTWF0aC5yb3VuZCgocG9zaXRpb24gLyBmaWxlRGF0YS5ieXRlTGVuZ3RoKSAqIDEwMCk7CiAgICAgIHBlcmNlbnQudGV4dENvbnRlbnQgPSBgJHtwZXJjZW50RG9uZX0lIGRvbmVgOwoKICAgIH0gd2hpbGUgKHBvc2l0aW9uIDwgZmlsZURhdGEuYnl0ZUxlbmd0aCk7CiAgfQoKICAvLyBBbGwgZG9uZS4KICB5aWVsZCB7CiAgICByZXNwb25zZTogewogICAgICBhY3Rpb246ICdjb21wbGV0ZScsCiAgICB9CiAgfTsKfQoKc2NvcGUuZ29vZ2xlID0gc2NvcGUuZ29vZ2xlIHx8IHt9OwpzY29wZS5nb29nbGUuY29sYWIgPSBzY29wZS5nb29nbGUuY29sYWIgfHwge307CnNjb3BlLmdvb2dsZS5jb2xhYi5fZmlsZXMgPSB7CiAgX3VwbG9hZEZpbGVzLAogIF91cGxvYWRGaWxlc0NvbnRpbnVlLAp9Owp9KShzZWxmKTsK",
              "ok": true,
              "headers": [
                [
                  "content-type",
                  "application/javascript"
                ]
              ],
              "status": 200,
              "status_text": ""
            }
          },
          "base_uri": "https://localhost:8080/",
          "height": 74
        },
        "id": "st7almbL7Fq3",
        "outputId": "c4f2d896-6ef9-412a-aff0-6f9142f1c2c1"
      },
      "source": [
        "!pip install pymysql > /dev/null\n",
        "\n",
        "from google.colab import files\n",
        "uploaded = files.upload()\n",
        "filename = list(uploaded.keys())[0]"
      ],
      "execution_count": 1,
      "outputs": [
        {
          "output_type": "display_data",
          "data": {
            "text/html": [
              "\n",
              "     <input type=\"file\" id=\"files-8612a1bf-8e79-49f0-9bbc-e45c9293b8bd\" name=\"files[]\" multiple disabled\n",
              "        style=\"border:none\" />\n",
              "     <output id=\"result-8612a1bf-8e79-49f0-9bbc-e45c9293b8bd\">\n",
              "      Upload widget is only available when the cell has been executed in the\n",
              "      current browser session. Please rerun this cell to enable.\n",
              "      </output>\n",
              "      <script src=\"/nbextensions/google.colab/files.js\"></script> "
            ],
            "text/plain": [
              "<IPython.core.display.HTML object>"
            ]
          },
          "metadata": {}
        },
        {
          "output_type": "stream",
          "text": [
            "Saving mysql.json to mysql.json\n"
          ],
          "name": "stdout"
        }
      ]
    },
    {
      "cell_type": "code",
      "metadata": {
        "id": "ILWQvktH7PXA"
      },
      "source": [
        "import json\n",
        "with open(filename) as fp:\n",
        "    config_str = fp.read()\n",
        "config = json.loads(config_str)\n",
        "\n",
        "import pymysql\n",
        "conn = pymysql.connect(\n",
        "    host='132.226.20.89',\n",
        "    user=config['user'],\n",
        "    password=config['password'],\n",
        "    database=config['database'],\n",
        "    port=config['port']\n",
        ")"
      ],
      "execution_count": 2,
      "outputs": []
    },
    {
      "cell_type": "markdown",
      "metadata": {
        "id": "Eg-8Vfue8jSD"
      },
      "source": [
        "## 패스워드 암호화"
      ]
    },
    {
      "cell_type": "markdown",
      "metadata": {
        "id": "4ixqZ9Bf8v5S"
      },
      "source": [
        "- Secure Hash Algorithm(SHA-256) base64\n",
        "- 단방향과 양방향이 있음. 양방향은 평문 비문 왔다갔다 가능. 단방향은 비문에서 평문으론 irreversible"
      ]
    },
    {
      "cell_type": "code",
      "metadata": {
        "colab": {
          "base_uri": "https://localhost:8080/"
        },
        "id": "LpNy54jM7UG1",
        "outputId": "df039d24-6e1a-4b15-eece-d81b3dc7c459"
      },
      "source": [
        "# 단방향으로 평문을 비문으로 바꿈\n",
        "import hashlib\n",
        "\n",
        "pwd = '1234'\n",
        "pwd_sha256 = hashlib.sha256(pwd.encode())\n",
        "pwd_sha256.digest()"
      ],
      "execution_count": 4,
      "outputs": [
        {
          "output_type": "execute_result",
          "data": {
            "text/plain": [
              "b'\\x03\\xacgB\\x16\\xf3\\xe1\\\\v\\x1e\\xe1\\xa5\\xe2U\\xf0g\\x956#\\xc8\\xb3\\x88\\xb4E\\x9e\\x13\\xf9x\\xd7\\xc8F\\xf4'"
            ]
          },
          "metadata": {},
          "execution_count": 4
        }
      ]
    },
    {
      "cell_type": "markdown",
      "metadata": {
        "id": "v2_nmqfN9gKM"
      },
      "source": [
        "- Base64로 인코딩"
      ]
    },
    {
      "cell_type": "code",
      "metadata": {
        "colab": {
          "base_uri": "https://localhost:8080/"
        },
        "id": "AgFa64CG89uQ",
        "outputId": "7c8f023f-d62c-4880-8fa7-e6bbbf9d7147"
      },
      "source": [
        "import base64\n",
        "\n",
        "base64.b64encode(pwd_sha256.digest())\n",
        "# bite"
      ],
      "execution_count": 5,
      "outputs": [
        {
          "output_type": "execute_result",
          "data": {
            "text/plain": [
              "b'A6xnQhbz4Vx2HuGl4lXwZ5U2I8iziLRFnhP5eNfIRvQ='"
            ]
          },
          "metadata": {},
          "execution_count": 5
        }
      ]
    },
    {
      "cell_type": "code",
      "metadata": {
        "colab": {
          "base_uri": "https://localhost:8080/",
          "height": 35
        },
        "id": "qoWCBbAn9u-G",
        "outputId": "8885cf3c-c44c-461e-9f55-ef463e3816a3"
      },
      "source": [
        "hashed_pwd = base64.b64encode(pwd_sha256.digest()).decode('utf-8')\n",
        "hashed_pwd\n",
        "# string    데이터 타입이 다름"
      ],
      "execution_count": 6,
      "outputs": [
        {
          "output_type": "execute_result",
          "data": {
            "application/vnd.google.colaboratory.intrinsic+json": {
              "type": "string"
            },
            "text/plain": [
              "'A6xnQhbz4Vx2HuGl4lXwZ5U2I8iziLRFnhP5eNfIRvQ='"
            ]
          },
          "metadata": {},
          "execution_count": 6
        }
      ]
    },
    {
      "cell_type": "code",
      "metadata": {
        "colab": {
          "base_uri": "https://localhost:8080/"
        },
        "id": "zlTQsRlo97WN",
        "outputId": "1352dcba-027b-40e0-9229-662a33a7c8d6"
      },
      "source": [
        "len(hashed_pwd)"
      ],
      "execution_count": 7,
      "outputs": [
        {
          "output_type": "execute_result",
          "data": {
            "text/plain": [
              "44"
            ]
          },
          "metadata": {},
          "execution_count": 7
        }
      ]
    },
    {
      "cell_type": "markdown",
      "metadata": {
        "id": "YDnG_edz-KAC"
      },
      "source": [
        "- 패스워드를 생성하는 함수"
      ]
    },
    {
      "cell_type": "code",
      "metadata": {
        "id": "Ozzv89ao-Chu"
      },
      "source": [
        "import hashlib, base64\n",
        "\n",
        "def gen_pwd(pwd):\n",
        "    pwd_sha256 = hashlib.sha256(pwd.encode())\n",
        "    hashed_pwd = base64.b64encode(pwd_sha256.digest()).decode('utf-8')\n",
        "    return hashed_pwd"
      ],
      "execution_count": 9,
      "outputs": []
    },
    {
      "cell_type": "code",
      "metadata": {
        "colab": {
          "base_uri": "https://localhost:8080/",
          "height": 35
        },
        "id": "C72wODML-oZ2",
        "outputId": "0338abbb-3d6d-4df6-9e0b-780645b8496a"
      },
      "source": [
        "gen_pwd('qwerty')"
      ],
      "execution_count": 10,
      "outputs": [
        {
          "output_type": "execute_result",
          "data": {
            "application/vnd.google.colaboratory.intrinsic+json": {
              "type": "string"
            },
            "text/plain": [
              "'ZehL4zUy+3hMSBKWdfnv86aCsnFowOp0Syz1juAjN8U='"
            ]
          },
          "metadata": {},
          "execution_count": 10
        }
      ]
    },
    {
      "cell_type": "markdown",
      "metadata": {
        "id": "an7CEdsy-2bE"
      },
      "source": [
        "## users table에 패스워드 넣기\n",
        "- uid + 21"
      ]
    },
    {
      "cell_type": "code",
      "metadata": {
        "colab": {
          "base_uri": "https://localhost:8080/"
        },
        "id": "YWUqJk0U-ytH",
        "outputId": "df03114d-85d7-4861-a610-8089ad5e4dae"
      },
      "source": [
        "sql = 'select uid from users;'\n",
        "cur = conn.cursor()\n",
        "cur.execute(sql)\n",
        "results = cur.fetchall()\n",
        "results"
      ],
      "execution_count": 16,
      "outputs": [
        {
          "output_type": "execute_result",
          "data": {
            "text/plain": [
              "(('admin',),\n",
              " ('djy',),\n",
              " ('eskim',),\n",
              " ('gdhong',),\n",
              " ('gdong2',),\n",
              " ('jbpark',),\n",
              " ('jbpark2',),\n",
              " ('wjlee',))"
            ]
          },
          "metadata": {},
          "execution_count": 16
        }
      ]
    },
    {
      "cell_type": "code",
      "metadata": {
        "id": "w-PK4rrD_igG"
      },
      "source": [
        "sql_update = 'update users set pwd=%s where uid=%s;'\n",
        "for line in results:\n",
        "    uid = line[0]\n",
        "    pwd = gen_pwd(uid+'21')\n",
        "    cur.execute(sql_update, (pwd, uid))\n",
        "conn.commit()"
      ],
      "execution_count": 17,
      "outputs": []
    },
    {
      "cell_type": "markdown",
      "metadata": {
        "id": "WvikaRVIB-ya"
      },
      "source": [
        "- email 추가: uid@mc.com"
      ]
    },
    {
      "cell_type": "code",
      "metadata": {
        "id": "m3RPZV9jCOnm"
      },
      "source": [
        "sql_email = 'update users set email=%s where uid=%s;'\n",
        "for line in results:\n",
        "    uid = line[0]\n",
        "    email = uid+ '@mc.com'\n",
        "    cur.execute(sql_email, (email, uid))\n",
        "conn.commit()"
      ],
      "execution_count": 19,
      "outputs": []
    },
    {
      "cell_type": "markdown",
      "metadata": {
        "id": "A5gcasyhDLRA"
      },
      "source": [
        "## 로그인"
      ]
    },
    {
      "cell_type": "code",
      "metadata": {
        "id": "gPv3Eqx1IC_b"
      },
      "source": [
        "sql_login = 'select uid, pwd from users where uid=%s and is_deleted=0'"
      ],
      "execution_count": null,
      "outputs": []
    },
    {
      "cell_type": "markdown",
      "metadata": {
        "id": "n9gjP-OaDSuo"
      },
      "source": [
        "- Case 1) uid가 없는 경우"
      ]
    },
    {
      "cell_type": "code",
      "metadata": {
        "id": "qfCZe4XlCvCs"
      },
      "source": [
        "# result가 Null\n",
        "uid = 'fool'\n",
        "cur.execute(sql_login, (uid,))\n",
        "result = cur.fetchone()\n",
        "result      # null값이 나옴"
      ],
      "execution_count": 20,
      "outputs": []
    },
    {
      "cell_type": "markdown",
      "metadata": {
        "id": "1AtnKxp5EJsE"
      },
      "source": [
        "- Case 2) 비밀번호가 틀린 경우"
      ]
    },
    {
      "cell_type": "code",
      "metadata": {
        "colab": {
          "base_uri": "https://localhost:8080/"
        },
        "id": "sEoYATbIEUVf",
        "outputId": "77ec73f7-2131-4f0b-8429-403ed1c8e418"
      },
      "source": [
        "uid, pwd = 'djy', 'djy23'\n",
        "cur.execute(sql_login, (uid,))\n",
        "result = cur.fetchone()\n",
        "result      # uid는 결과가 나왔으니 맞음"
      ],
      "execution_count": 22,
      "outputs": [
        {
          "output_type": "execute_result",
          "data": {
            "text/plain": [
              "('djy', 'mxsnWYLpB/nAOt37fpt3PMXpGGQprktT3vm2p9RfFyY=')"
            ]
          },
          "metadata": {},
          "execution_count": 22
        }
      ]
    },
    {
      "cell_type": "code",
      "metadata": {
        "colab": {
          "base_uri": "https://localhost:8080/"
        },
        "id": "zPOXEe0aIlX0",
        "outputId": "0a7cbbdd-7c1d-47e9-b4a6-8b3b36e37a67"
      },
      "source": [
        "db_pwd = result[1]\n",
        "hashed_pwd = gen_pwd(pwd)\n",
        "if db_pwd == hashed_pwd:\n",
        "    print('Login')\n",
        "else:\n",
        "    print('Incorrect password!')"
      ],
      "execution_count": 23,
      "outputs": [
        {
          "output_type": "stream",
          "text": [
            "Incorrect password!\n"
          ],
          "name": "stdout"
        }
      ]
    },
    {
      "cell_type": "markdown",
      "metadata": {
        "id": "xYJLDTWSERMc"
      },
      "source": [
        "- Case 3) OK"
      ]
    },
    {
      "cell_type": "code",
      "metadata": {
        "colab": {
          "base_uri": "https://localhost:8080/"
        },
        "id": "lA7US8MKEMTK",
        "outputId": "b58b761c-490d-4fcc-84ee-26bfb07df847"
      },
      "source": [
        "uid, pwd = 'djy', 'djy21'\n",
        "cur.execute(sql_login, (uid,))\n",
        "result = cur.fetchone()\n",
        "db_pwd = result[1]\n",
        "hashed_pwd = gen_pwd(pwd)\n",
        "if db_pwd == hashed_pwd:\n",
        "    print('Login')\n",
        "else:\n",
        "    print('Incorrect password!')"
      ],
      "execution_count": 26,
      "outputs": [
        {
          "output_type": "stream",
          "text": [
            "Login\n"
          ],
          "name": "stdout"
        }
      ]
    },
    {
      "cell_type": "markdown",
      "metadata": {
        "id": "fL_etq_MJQ3l"
      },
      "source": [
        "- 3가지 경우를 합침"
      ]
    },
    {
      "cell_type": "code",
      "metadata": {
        "colab": {
          "base_uri": "https://localhost:8080/"
        },
        "id": "Q0jogmtMJGeE",
        "outputId": "2cd40059-1983-4c45-d920-fa3f6c178860"
      },
      "source": [
        "uid, pwd = 'djy', 'djy21'\n",
        "cur.execute(sql_login, (uid,))\n",
        "result = cur.fetchone()\n",
        "if result:\n",
        "    db_pwd = result[1]\n",
        "    hashed_pwd = gen_pwd(pwd)\n",
        "    if db_pwd == hashed_pwd:\n",
        "        print('Login')\n",
        "    else:\n",
        "        print('Incorrect password!')\n",
        "else:\n",
        "    print('Bad uid!!!')"
      ],
      "execution_count": 27,
      "outputs": [
        {
          "output_type": "stream",
          "text": [
            "Login\n"
          ],
          "name": "stdout"
        }
      ]
    },
    {
      "cell_type": "code",
      "metadata": {
        "colab": {
          "base_uri": "https://localhost:8080/"
        },
        "id": "OvbWkZObJuc2",
        "outputId": "e3a85884-8417-455d-b227-b7fb1d50854b"
      },
      "source": [
        "uid, pwd = 'djy', 'djy23'\n",
        "cur.execute(sql_login, (uid,))\n",
        "result = cur.fetchone()\n",
        "if result:\n",
        "    db_pwd = result[1]\n",
        "    hashed_pwd = gen_pwd(pwd)\n",
        "    if db_pwd == hashed_pwd:\n",
        "        print('Login')\n",
        "    else:\n",
        "        print('Incorrect password!')\n",
        "else:\n",
        "    print('Bad uid!!!')"
      ],
      "execution_count": 28,
      "outputs": [
        {
          "output_type": "stream",
          "text": [
            "Incorrect password!\n"
          ],
          "name": "stdout"
        }
      ]
    },
    {
      "cell_type": "code",
      "metadata": {
        "colab": {
          "base_uri": "https://localhost:8080/"
        },
        "id": "v7fZlVWLJv8P",
        "outputId": "7ba3b67b-f901-4bca-bcaa-ab95cbf21815"
      },
      "source": [
        "uid, pwd = 'djy1', 'djy23'\n",
        "cur.execute(sql_login, (uid,))\n",
        "result = cur.fetchone()\n",
        "if result:\n",
        "    db_pwd = result[1]\n",
        "    hashed_pwd = gen_pwd(pwd)\n",
        "    if db_pwd == hashed_pwd:\n",
        "        print('Login')\n",
        "    else:\n",
        "        print('Incorrect password!')\n",
        "else:\n",
        "    print('Bad uid!!!')"
      ],
      "execution_count": 29,
      "outputs": [
        {
          "output_type": "stream",
          "text": [
            "Bad uid!!!\n"
          ],
          "name": "stdout"
        }
      ]
    },
    {
      "cell_type": "markdown",
      "metadata": {
        "id": "V4ntbPOyKH3w"
      },
      "source": [
        "- 예외 처리를 통해 해결하는 경우"
      ]
    },
    {
      "cell_type": "code",
      "metadata": {
        "colab": {
          "base_uri": "https://localhost:8080/"
        },
        "id": "8spXxM6WJxCb",
        "outputId": "bc83906c-3afa-41dc-fd0b-b3f81ca23c72"
      },
      "source": [
        "uid, pwd = 'djy1', 'djy23'\n",
        "cur.execute(sql_login, (uid,))\n",
        "result = cur.fetchone()\n",
        "try:\n",
        "    db_pwd = result[1]\n",
        "    hashed_pwd = gen_pwd(pwd)\n",
        "    if db_pwd == hashed_pwd:\n",
        "        print('Login')\n",
        "    else:\n",
        "        print('Incorrect password!')\n",
        "except:\n",
        "    print('Bad uid!!!')"
      ],
      "execution_count": 30,
      "outputs": [
        {
          "output_type": "stream",
          "text": [
            "Bad uid!!!\n"
          ],
          "name": "stdout"
        }
      ]
    },
    {
      "cell_type": "code",
      "metadata": {
        "colab": {
          "base_uri": "https://localhost:8080/"
        },
        "id": "C87VLkC9KY-L",
        "outputId": "350a4dca-dc09-49d0-8d30-a06135564d6d"
      },
      "source": [
        "uid, pwd = 'djy', 'djy23'\n",
        "cur.execute(sql_login, (uid,))\n",
        "result = cur.fetchone()\n",
        "try:\n",
        "    db_pwd = result[1]\n",
        "    hashed_pwd = gen_pwd(pwd)\n",
        "    if db_pwd == hashed_pwd:\n",
        "        print('Login')\n",
        "    else:\n",
        "        print('Incorrect password!')\n",
        "except:\n",
        "    print('Bad uid!!!')"
      ],
      "execution_count": 32,
      "outputs": [
        {
          "output_type": "stream",
          "text": [
            "Incorrect password!\n"
          ],
          "name": "stdout"
        }
      ]
    },
    {
      "cell_type": "code",
      "metadata": {
        "colab": {
          "base_uri": "https://localhost:8080/"
        },
        "id": "b1Ekaxr1KTEh",
        "outputId": "98674bac-d30d-453c-f939-49627d00fb00"
      },
      "source": [
        "uid, pwd = 'djy', 'djy21'\n",
        "cur.execute(sql_login, (uid,))\n",
        "result = cur.fetchone()\n",
        "try:\n",
        "    db_pwd = result[1]\n",
        "    hashed_pwd = gen_pwd(pwd)\n",
        "    if db_pwd == hashed_pwd:\n",
        "        print('Login')\n",
        "    else:\n",
        "        print('Incorrect password!')\n",
        "except:\n",
        "    print('Bad uid!!!')"
      ],
      "execution_count": 31,
      "outputs": [
        {
          "output_type": "stream",
          "text": [
            "Login\n"
          ],
          "name": "stdout"
        }
      ]
    },
    {
      "cell_type": "markdown",
      "metadata": {
        "id": "AJYblgckKtOS"
      },
      "source": [
        "## 마무리"
      ]
    },
    {
      "cell_type": "code",
      "metadata": {
        "id": "xKvIzi4SKYgG"
      },
      "source": [
        "cur.close()\n",
        "conn.close()"
      ],
      "execution_count": 33,
      "outputs": []
    },
    {
      "cell_type": "code",
      "metadata": {
        "id": "HxHJpmZtKzjm"
      },
      "source": [
        ""
      ],
      "execution_count": null,
      "outputs": []
    }
  ]
}